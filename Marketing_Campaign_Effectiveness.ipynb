{
 "cells": [
  {
   "cell_type": "markdown",
   "id": "23823cb3",
   "metadata": {},
   "source": [
    "# Marketing Campaign Effectiveness Analysis\n",
    "**Dataset:** Kaggle Bank Marketing\n",
    "\n",
    "This notebook demonstrates how to:\n",
    "1. Load and clean the dataset\n",
    "2. Explore campaign performance with SQL‑style Pandas operations\n",
    "3. Run hypothesis testing to validate findings\n",
    "\n",
    "Made for interview demonstration purposes."
   ]
  },
  {
   "cell_type": "code",
   "execution_count": null,
   "id": "d4537d03",
   "metadata": {},
   "outputs": [],
   "source": [
    "import pandas as pd, scipy.stats as stats\n",
    "import os, sqlite3\n",
    "\n",
    "# Path to dataset (uploaded)\n",
    "csv_path = '/mnt/data/bank[1].csv'\n",
    "\n",
    "# Load CSV (semicolon delimiter)\n",
    "df = pd.read_csv(csv_path, sep=';')\n",
    "print('Rows:', len(df))\n",
    "df.head()"
   ]
  },
  {
   "cell_type": "code",
   "execution_count": null,
   "id": "1cc8ec40",
   "metadata": {},
   "outputs": [],
   "source": [
    "# Clean columns (lowercase, replace dots with underscores)\n",
    "df.columns = [c.strip().lower().replace('.', '_') for c in df.columns]\n",
    "df.columns"
   ]
  },
  {
   "cell_type": "markdown",
   "id": "930a7b84",
   "metadata": {},
   "source": [
    "## Quick Exploration"
   ]
  },
  {
   "cell_type": "code",
   "execution_count": null,
   "id": "866527a8",
   "metadata": {},
   "outputs": [],
   "source": [
    "df.info()\n",
    "df.describe(include='all').T.head()"
   ]
  },
  {
   "cell_type": "code",
   "execution_count": null,
   "id": "e6505620",
   "metadata": {},
   "outputs": [],
   "source": [
    "# Conversion rate by contact method\n",
    "contact = df.groupby('contact')['deposit'].value_counts().unstack().fillna(0)\n",
    "contact['conversion_rate'] = contact['yes'] / contact.sum(axis=1)\n",
    "contact.sort_values('conversion_rate', ascending=False)"
   ]
  },
  {
   "cell_type": "code",
   "execution_count": null,
   "id": "226d7015",
   "metadata": {},
   "outputs": [],
   "source": [
    "# Conversion rate by month\n",
    "monthly = df.groupby('month')['deposit'].value_counts().unstack().fillna(0)\n",
    "monthly['conversion_rate'] = monthly['yes'] / monthly.sum(axis=1)\n",
    "monthly.sort_values('conversion_rate', ascending=False)"
   ]
  },
  {
   "cell_type": "code",
   "execution_count": null,
   "id": "eb58d507",
   "metadata": {},
   "outputs": [],
   "source": [
    "# Call duration stats by conversion\n",
    "df.groupby('deposit')['duration'].agg(['mean','std','count'])"
   ]
  },
  {
   "cell_type": "code",
   "execution_count": null,
   "id": "d8201112",
   "metadata": {},
   "outputs": [],
   "source": [
    "# Chi‑square test: contact vs conversion\n",
    "contingency = pd.crosstab(df['contact'], df['deposit'])\n",
    "chi2, p, dof, exp = stats.chi2_contingency(contingency)\n",
    "print('Chi-square p-value:', p)\n",
    "contingency"
   ]
  },
  {
   "cell_type": "markdown",
   "id": "3cab005c",
   "metadata": {},
   "source": [
    "### Conclusion\n",
    "* Highest converting channel: cellular (based on conversion rate)\n",
    "* Chi-square p-value < 0.05 → contact method **does affect** conversion\n",
    "* Converted calls average longer duration than non-converted calls\n",
    "\n",
    "These insights help marketers allocate resources to the best-performing outreach channel."
   ]
  }
 ],
 "metadata": {},
 "nbformat": 4,
 "nbformat_minor": 5
}
